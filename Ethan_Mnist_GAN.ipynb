{
  "nbformat": 4,
  "nbformat_minor": 0,
  "metadata": {
    "colab": {
      "name": "Mnist_GAN.ipynb",
      "provenance": [],
      "include_colab_link": true
    },
    "kernelspec": {
      "name": "python3",
      "display_name": "Python 3"
    },
    "accelerator": "GPU"
  },
  "cells": [
    {
      "cell_type": "markdown",
      "metadata": {
        "id": "view-in-github",
        "colab_type": "text"
      },
      "source": [
        "<a href=\"https://colab.research.google.com/github/eth212/Qmind_MNIST_GAN/blob/main/Mnist_GAN.ipynb\" target=\"_parent\"><img src=\"https://colab.research.google.com/assets/colab-badge.svg\" alt=\"Open In Colab\"/></a>"
      ]
    },
    {
      "cell_type": "markdown",
      "metadata": {
        "id": "tnksWBWHrntb"
      },
      "source": [
        "**Author : Ethan Bonnardeaux**\n",
        "\n",
        "---\n",
        "\n",
        "\n",
        "**Date : December 2nd, 2020**\n",
        "\n",
        "\n",
        "---\n",
        "\n",
        "\n",
        "Sources Used : \n",
        " - https://machinelearningmastery.com/how-to-develop-a-generative-adversarial-network-for-an-mnist-handwritten-digits-from-scratch-in-keras/\n",
        " - https://www.youtube.com/watch?v=tX-6CMNnT64&ab_channel=AvivElbag\n",
        "\n"
      ]
    },
    {
      "cell_type": "code",
      "metadata": {
        "id": "MlwJEGwjhw6d"
      },
      "source": [
        "import cv2\n",
        "from matplotlib import pyplot as plt\n",
        "import numpy as np \n",
        "from keras.datasets import mnist"
      ],
      "execution_count": 18,
      "outputs": []
    },
    {
      "cell_type": "code",
      "metadata": {
        "id": "QIXm-PRVheR2"
      },
      "source": [
        "(x_train, y_train), (x_test, y_test) = mnist.load_data()"
      ],
      "execution_count": 19,
      "outputs": []
    },
    {
      "cell_type": "code",
      "metadata": {
        "id": "epFy8GNUhowF",
        "colab": {
          "base_uri": "https://localhost:8080/",
          "height": 282
        },
        "outputId": "1d3a6f4e-8153-4cbb-c08f-0017fb3dd21f"
      },
      "source": [
        "plt.imshow(x_train[0])"
      ],
      "execution_count": 20,
      "outputs": [
        {
          "output_type": "execute_result",
          "data": {
            "text/plain": [
              "<matplotlib.image.AxesImage at 0x7fd1805f4cf8>"
            ]
          },
          "metadata": {
            "tags": []
          },
          "execution_count": 20
        },
        {
          "output_type": "display_data",
          "data": {
            "image/png": "[encoded data removed]",
            "text/plain": [
              "<Figure size 432x288 with 1 Axes>"
            ]
          },
          "metadata": {
            "tags": [],
            "needs_background": "light"
          }
        }
      ]
    },
    {
      "cell_type": "code",
      "metadata": {
        "id": "dE9JATrUhu_R",
        "colab": {
          "base_uri": "https://localhost:8080/"
        },
        "outputId": "1c916c2a-3ae8-423f-fc6b-2c2e97f6d8a0"
      },
      "source": [
        "print(f\"Training data has shape {str(x_train.shape)}\") # 60,000 images for training with dimensions 28 pixels in width and 28 pixels in height\n",
        "print(f\"Validation Data has Shape {str(x_test.shape)}\") # 10,000 images for testing with the same dimensions"
      ],
      "execution_count": 21,
      "outputs": [
        {
          "output_type": "stream",
          "text": [
            "Training data has shape (60000, 28, 28)\n",
            "Validation Data has Shape (10000, 28, 28)\n"
          ],
          "name": "stdout"
        }
      ]
    },
    {
      "cell_type": "code",
      "metadata": {
        "id": "MfntAduSsh7Z"
      },
      "source": [
        "x_train = x_train.reshape(-1, 28, 28, 1)\n",
        "x_train = x_train / 255.0\n",
        "x_test = x_test.reshape(-1, 28, 28, 1)\n",
        "x_test = x_test / 255.0"
      ],
      "execution_count": 22,
      "outputs": []
    },
    {
      "cell_type": "markdown",
      "metadata": {
        "id": "3bHWVDwTqpxj"
      },
      "source": [
        " - (One Hot Encoding) Converting the labels from 1D vector ranging [0,9] integers into 10-D vector where each x_i in (x_1,...x_10) is either 1 or 0\n",
        " - This lets me form a classification problem where there isn't a natural heirachy between each class\n"
      ]
    },
    {
      "cell_type": "code",
      "metadata": {
        "id": "cVWitK4EVeej"
      },
      "source": [
        "buffer = []\n",
        "for i in range(len(y_train)):\n",
        "  temp = [0] * 10\n",
        "  temp[y_train[i]] = 1\n",
        "  buffer.append(temp)\n",
        "y_train = np.array(buffer)\n",
        "\n",
        "buffer = []\n",
        "for i in range(len(y_test)):\n",
        "  temp = [0] * 10\n",
        "  temp[y_test[i]] = 1\n",
        "  buffer.append(np.array(temp))\n",
        "y_test = np.array(buffer)"
      ],
      "execution_count": 23,
      "outputs": []
    },
    {
      "cell_type": "markdown",
      "metadata": {
        "id": "P_25rygbS33t"
      },
      "source": [
        "#Discriminator#"
      ]
    },
    {
      "cell_type": "code",
      "metadata": {
        "id": "pHGqVxcSTNhB"
      },
      "source": [
        "from keras.models import Sequential\n",
        "from keras.layers import Dense, MaxPool2D, BatchNormalization, Flatten, Dropout, Conv2D\n",
        "from keras.optimizers import Adam\n",
        "from keras.optimizers import SGD\n",
        "from keras.models import Sequential\n",
        "from keras.layers import Dense\n",
        "from keras.layers import Reshape\n",
        "from keras.layers import Flatten\n",
        "from keras.layers import Conv2D\n",
        "from keras.layers import Conv2DTranspose\n",
        "from keras.layers import LeakyReLU\n",
        "from keras.layers import Dropout"
      ],
      "execution_count": 24,
      "outputs": []
    },
    {
      "cell_type": "markdown",
      "metadata": {
        "id": "m6hm03ydmRaP"
      },
      "source": [
        "Experimental Training and Tuning\n"
      ]
    },
    {
      "cell_type": "code",
      "metadata": {
        "id": "vOglri3v0Jl4"
      },
      "source": [
        "  lr = 0.001\n",
        "  nst = False\n",
        "  model_d = Sequential()\n",
        "  model_d.add(Conv2D(10, (3,3), activation='relu', input_shape=x_train.shape[1:]))\n",
        "  model_d.add(Dropout(0.25))\n",
        "  model_d.add(MaxPool2D())\n",
        "  model_d.add(Conv2D(15,(2,2), activation='relu'))\n",
        "  model_d.add(Dropout(0.35))\n",
        "  model_d.add(Flatten())\n",
        "  # model_d.add(Dense(50, activation='relu'))\n",
        "  model_d.add(Dense(10, activation='softmax'))\n",
        "  sgd = SGD(learning_rate=lr, nesterov=nst) # consider using Nesterov Look ahead\n",
        "  model_d.compile(loss='categorical_crossentropy', optimizer=sgd, metrics=['acc'])"
      ],
      "execution_count": 25,
      "outputs": []
    },
    {
      "cell_type": "code",
      "metadata": {
        "colab": {
          "base_uri": "https://localhost:8080/"
        },
        "id": "8mCWn1ItWM_O",
        "outputId": "d0c525d1-434b-44e6-d8de-a10e02d28667"
      },
      "source": [
        "model_d.summary()"
      ],
      "execution_count": 26,
      "outputs": [
        {
          "output_type": "stream",
          "text": [
            "Model: \"sequential_3\"\n",
            "_________________________________________________________________\n",
            "Layer (type)                 Output Shape              Param #   \n",
            "=================================================================\n",
            "conv2d_6 (Conv2D)            (None, 26, 26, 10)        100       \n",
            "_________________________________________________________________\n",
            "dropout_6 (Dropout)          (None, 26, 26, 10)        0         \n",
            "_________________________________________________________________\n",
            "max_pooling2d_3 (MaxPooling2 (None, 13, 13, 10)        0         \n",
            "_________________________________________________________________\n",
            "conv2d_7 (Conv2D)            (None, 12, 12, 15)        615       \n",
            "_________________________________________________________________\n",
            "dropout_7 (Dropout)          (None, 12, 12, 15)        0         \n",
            "_________________________________________________________________\n",
            "flatten_3 (Flatten)          (None, 2160)              0         \n",
            "_________________________________________________________________\n",
            "dense_3 (Dense)              (None, 10)                21610     \n",
            "=================================================================\n",
            "Total params: 22,325\n",
            "Trainable params: 22,325\n",
            "Non-trainable params: 0\n",
            "_________________________________________________________________\n"
          ],
          "name": "stdout"
        }
      ]
    },
    {
      "cell_type": "markdown",
      "metadata": {
        "id": "hLcEaNwJpWBu"
      },
      "source": [
        "Discriminator complexity is minimized by the number of trainable parameters and the training proves it's incremental increase in accuracy per epoch (without beginning at a very high value) which will allow the generator to learn simple patterns and incrementaly improve to understand the complex filters learned by discriminator \n",
        "- Note: it seems like random seeding plays a large part in the models accuracy for epoch #1 so I will consider setting the initial biases manually "
      ]
    },
    {
      "cell_type": "code",
      "metadata": {
        "id": "4iKmBGTE0qEk",
        "colab": {
          "base_uri": "https://localhost:8080/"
        },
        "outputId": "9cfd4968-dab2-43ea-bb88-25b5335760ca"
      },
      "source": [
        "model_d.fit(x_train, y_train, shuffle=True, validation_data=(x_test, y_test), batch_size=40, epochs = 5)"
      ],
      "execution_count": 17,
      "outputs": [
        {
          "output_type": "stream",
          "text": [
            "Epoch 1/5\n",
            "1500/1500 [==============================] - 5s 3ms/step - loss: 1.4016 - acc: 0.5613 - val_loss: 0.6321 - val_acc: 0.8677\n",
            "Epoch 2/5\n",
            "1500/1500 [==============================] - 4s 3ms/step - loss: 0.5900 - acc: 0.8175 - val_loss: 0.4397 - val_acc: 0.8940\n",
            "Epoch 3/5\n",
            "1500/1500 [==============================] - 5s 3ms/step - loss: 0.5024 - acc: 0.8455 - val_loss: 0.3928 - val_acc: 0.9034\n",
            "Epoch 4/5\n",
            "1500/1500 [==============================] - 5s 3ms/step - loss: 0.4567 - acc: 0.8608 - val_loss: 0.3685 - val_acc: 0.9085\n",
            "Epoch 5/5\n",
            "1500/1500 [==============================] - 5s 3ms/step - loss: 0.4293 - acc: 0.8706 - val_loss: 0.3538 - val_acc: 0.9113\n"
          ],
          "name": "stdout"
        },
        {
          "output_type": "execute_result",
          "data": {
            "text/plain": [
              "<tensorflow.python.keras.callbacks.History at 0x7fd180f5c668>"
            ]
          },
          "metadata": {
            "tags": []
          },
          "execution_count": 17
        }
      ]
    },
    {
      "cell_type": "code",
      "metadata": {
        "id": "cAO5xdfb026n"
      },
      "source": [
        "def make_discriminator(lr=0.01, nst=False):\n",
        "  model = Sequential()\n",
        "  model.add(Conv2D(10, (3,3), activation='relu', input_shape=x_train.shape[1:]))\n",
        "  model.add(Dropout(0.25))\n",
        "  model.add(MaxPool2D())\n",
        "  model.add(Conv2D(15,(2,2), activation='relu'))\n",
        "  model.add(Dropout(0.35))\n",
        "  model.add(Flatten())\n",
        "  # model_d.add(Dense(50, activation='relu'))\n",
        "  model.add(Dense(1, activation='sigmoid'))\n",
        "  sgd = SGD(learning_rate=lr, nesterov=nst) # consider using Nesterov Look ahead\n",
        "  model.compile(loss='binary_crossentropy', optimizer=sgd, metrics=['acc'])\n",
        "  return model"
      ],
      "execution_count": 58,
      "outputs": []
    },
    {
      "cell_type": "markdown",
      "metadata": {
        "id": "k44VoDQ3oaDe"
      },
      "source": [
        "#Defining the Generator #\n",
        "**Inputs**: Point in latent space, e.g. a 100 element vector of Gaussian random numbers.\n",
        "**Outputs**: Two-dimensional square grayscale image of 28×28 pixels with pixel values in [0,1].\n",
        "**Notes**: \n",
        " - 100 element latent space is subject to change however is the widely used noise vector size"
      ]
    },
    {
      "cell_type": "code",
      "metadata": {
        "id": "TIZokPRpmecZ"
      },
      "source": [
        "def make_generator(latent_dimension, num_parellel_images=128):\n",
        "  # transform latent_dimension into 28x28 pixel image\n",
        "  model = Sequential()\n",
        "  # start with low res generated image (RxR) and Define R as 7 so that we can double its size twice and achieve 28x28\n",
        "  low_res_dim = 7\n",
        "  init_permutations = num_parellel_images # number of parelled interpretations of low res image\n",
        "  model.add(Dense(init_permutations * (low_res_dim ** 2), input_dim=latent_dimension, activation='relu')) # maybe change to input_shape\n",
        "  model.add(Reshape((low_res_dim, low_res_dim, init_permutations)))\n",
        "  # de-convolution process (Either UpSampling2D then Conv2D or Conv2DTranspose)\n",
        "  model.add(Conv2DTranspose(init_permutations, (4,4), strides=(2,2), padding='same', activation='relu')) # (4,4) kernel size which is a factor of the strides (2,2) -> avoid checkerboard pattern \n",
        "  # the stride size increase generated shape from (R*s1, R*s1)\n",
        "  # now the generated images will be (14, 14)\n",
        "  model.add(Conv2DTranspose(init_permutations, (4,4), strides=(2,2), padding='same', activation='relu'))\n",
        "  # now upsampled images are size (28, 28)\n",
        "  model.add(Conv2D(1, (7,7), activation='sigmoid', padding='same')) # sigmoid used to ensure values are in [0,1]\n",
        "  return model\n",
        "\n"
      ],
      "execution_count": 28,
      "outputs": []
    },
    {
      "cell_type": "markdown",
      "metadata": {
        "id": "rVgmNBKyyhGh"
      },
      "source": [
        "Re-Visit and attempt to decrease number of trainable-params"
      ]
    },
    {
      "cell_type": "code",
      "metadata": {
        "colab": {
          "base_uri": "https://localhost:8080/"
        },
        "id": "rObaBsmbyHqS",
        "outputId": "3800c829-a4c2-468d-a78c-3f4c30538d68"
      },
      "source": [
        "LATENT_DIM = 100\n",
        "model_d = make_discriminator(lr=0.001) # decrease learning rate to slow training process\n",
        "model_g = make_generator(LATENT_DIM, num_parellel_images=80) # start with low number of parellel images\n",
        "model_g.summary()"
      ],
      "execution_count": 42,
      "outputs": [
        {
          "output_type": "stream",
          "text": [
            "Model: \"sequential_7\"\n",
            "_________________________________________________________________\n",
            "Layer (type)                 Output Shape              Param #   \n",
            "=================================================================\n",
            "dense_7 (Dense)              (None, 3920)              395920    \n",
            "_________________________________________________________________\n",
            "reshape_1 (Reshape)          (None, 7, 7, 80)          0         \n",
            "_________________________________________________________________\n",
            "conv2d_transpose_2 (Conv2DTr (None, 14, 14, 80)        102480    \n",
            "_________________________________________________________________\n",
            "conv2d_transpose_3 (Conv2DTr (None, 28, 28, 80)        102480    \n",
            "_________________________________________________________________\n",
            "conv2d_13 (Conv2D)           (None, 28, 28, 1)         3921      \n",
            "=================================================================\n",
            "Total params: 604,801\n",
            "Trainable params: 604,801\n",
            "Non-trainable params: 0\n",
            "_________________________________________________________________\n"
          ],
          "name": "stdout"
        }
      ]
    },
    {
      "cell_type": "code",
      "metadata": {
        "id": "X16H3m7Gyduh"
      },
      "source": [
        "def randomize_latent_points(dim, amount):\n",
        "  x = np.random.randn(dim * amount)\n",
        "  x = x.reshape(amount, dim)\n",
        "  return x"
      ],
      "execution_count": 30,
      "outputs": []
    },
    {
      "cell_type": "code",
      "metadata": {
        "id": "QwqHOIlbzDlT"
      },
      "source": [
        "def generate_samples(generator, latent_dim, amount):\n",
        "  x = randomize_latent_points(latent_dim, amount)\n",
        "  generated_samples = generator.predict(x)\n",
        "  fake_labels = []\n",
        "  for i in range(amount):\n",
        "    temp = [0] * 10\n",
        "    temp[(np.random.randint(0,9))] = 1\n",
        "    fake_labels.append(np.array(temp))\n",
        "  return generated_samples, np.array(fake_labels)"
      ],
      "execution_count": 46,
      "outputs": []
    },
    {
      "cell_type": "markdown",
      "metadata": {
        "id": "1zefNC2T1nME"
      },
      "source": [
        "Displaying generated samples which are random with an untrained generator model"
      ]
    },
    {
      "cell_type": "code",
      "metadata": {
        "colab": {
          "base_uri": "https://localhost:8080/",
          "height": 113
        },
        "id": "hYIlWnL2zFoa",
        "outputId": "8c9dd429-77a9-4c74-fae2-7541b6a86910"
      },
      "source": [
        "X, Y = generate_samples(model_g, LATENT_DIM, 10)\n",
        "for i in range(10):\n",
        "\tplt.subplot(5, 5, 1 + i)\n",
        "\tplt.axis('off')\n",
        "\tplt.imshow(X[i, :, :, 0], cmap='gray_r')\n",
        "plt.show()"
      ],
      "execution_count": 54,
      "outputs": [
        {
          "output_type": "display_data",
          "data": {
            "image/png": "[encoded data removed]",
            "text/plain": [
              "<Figure size 432x288 with 10 Axes>"
            ]
          },
          "metadata": {
            "tags": [],
            "needs_background": "light"
          }
        }
      ]
    },
    {
      "cell_type": "markdown",
      "metadata": {
        "id": "oXY5VjI-2_zw"
      },
      "source": [
        "GAN will be trained without updating the discriminator, only the generator's weights will be improved until the discriminator is updated seperately"
      ]
    },
    {
      "cell_type": "code",
      "metadata": {
        "id": "17DRtiD1z9Ct"
      },
      "source": [
        "def make_gan(model_g, model_d, lr=0.001):\n",
        "  model_d.trainable = False\n",
        "  gan = Sequential()\n",
        "  gan.add(model_g)\n",
        "  gan.add(model_d)\n",
        "  optimizer = SGD(lr=lr)\n",
        "  model.compile(loss='categorical_crossentropy', optimizer=optimizer)\n",
        "  return model"
      ],
      "execution_count": 55,
      "outputs": []
    },
    {
      "cell_type": "code",
      "metadata": {
        "id": "axR_NiZ01At4"
      },
      "source": [
        "def training_step(gan, latent_dim, epochs=50, n_batch=256):\n",
        "  for i in range(epochs):\n",
        "    z = randomize_latent_points(latent_dim, batch_size)\n",
        "    # inverted labels\n",
        "    generator_labels = []\n",
        "    for i in range(n_batch):\n",
        "      temp = [1] * 10\n",
        "      generator_labels.append(np.array(temp))\n",
        "    generator_labels = np.array(generator_labels)\n",
        "    gan.train_on_batch(z, generator_labels)"
      ],
      "execution_count": 56,
      "outputs": []
    },
    {
      "cell_type": "code",
      "metadata": {
        "id": "6Z3hshIV5Kco"
      },
      "source": [
        "def train(model_g, model_d, gan, x_real, latent_dim, epochs, n_batch):\n",
        "  "
      ],
      "execution_count": null,
      "outputs": []
    },
    {
      "cell_type": "code",
      "metadata": {
        "colab": {
          "base_uri": "https://localhost:8080/"
        },
        "id": "KiP4wOVa6DTV",
        "outputId": "e117ba9f-d457-45d4-ae42-6a0e3670c8bb"
      },
      "source": [
        "from numpy import expand_dims\n",
        "from numpy import zeros\n",
        "from numpy import ones\n",
        "from numpy import vstack\n",
        "from numpy.random import randn\n",
        "from numpy.random import randint\n",
        "from keras.datasets.mnist import load_data\n",
        "from keras.optimizers import Adam\n",
        "from keras.models import Sequential\n",
        "from keras.layers import Dense\n",
        "from keras.layers import Reshape\n",
        "from keras.layers import Flatten\n",
        "from keras.layers import Conv2D\n",
        "from keras.layers import Conv2DTranspose\n",
        "from keras.layers import LeakyReLU\n",
        "from keras.layers import Dropout\n",
        "from matplotlib import pyplot\n",
        " \n",
        "# define the standalone discriminator model\n",
        "def define_discriminator(in_shape=(28,28,1)):\n",
        "\tmodel = Sequential()\n",
        "\tmodel.add(Conv2D(64, (3,3), strides=(2, 2), padding='same', input_shape=in_shape))\n",
        "\tmodel.add(LeakyReLU(alpha=0.2))\n",
        "\tmodel.add(Dropout(0.4))\n",
        "\tmodel.add(Conv2D(64, (3,3), strides=(2, 2), padding='same'))\n",
        "\tmodel.add(LeakyReLU(alpha=0.2))\n",
        "\tmodel.add(Dropout(0.4))\n",
        "\tmodel.add(Flatten())\n",
        "\tmodel.add(Dense(1, activation='sigmoid'))\n",
        "\t# compile model\n",
        "\topt = Adam(lr=0.0002, beta_1=0.5)\n",
        "\tmodel.compile(loss='binary_crossentropy', optimizer=opt, metrics=['accuracy'])\n",
        "\treturn model\n",
        " \n",
        "# define the standalone generator model\n",
        "def define_generator(latent_dim):\n",
        "\tmodel = Sequential()\n",
        "\t# foundation for 7x7 image\n",
        "\tn_nodes = 128 * 7 * 7\n",
        "\tmodel.add(Dense(n_nodes, input_dim=latent_dim))\n",
        "\tmodel.add(LeakyReLU(alpha=0.2))\n",
        "\tmodel.add(Reshape((7, 7, 128)))\n",
        "\t# upsample to 14x14\n",
        "\tmodel.add(Conv2DTranspose(128, (4,4), strides=(2,2), padding='same'))\n",
        "\tmodel.add(LeakyReLU(alpha=0.2))\n",
        "\t# upsample to 28x28\n",
        "\tmodel.add(Conv2DTranspose(128, (4,4), strides=(2,2), padding='same'))\n",
        "\tmodel.add(LeakyReLU(alpha=0.2))\n",
        "\tmodel.add(Conv2D(1, (7,7), activation='sigmoid', padding='same'))\n",
        "\treturn model\n",
        " \n",
        "# define the combined generator and discriminator model, for updating the generator\n",
        "def define_gan(g_model, d_model):\n",
        "\t# make weights in the discriminator not trainable\n",
        "\td_model.trainable = False\n",
        "\t# connect them\n",
        "\tmodel = Sequential()\n",
        "\t# add generator\n",
        "\tmodel.add(g_model)\n",
        "\t# add the discriminator\n",
        "\tmodel.add(d_model)\n",
        "\t# compile model\n",
        "\topt = Adam(lr=0.0002, beta_1=0.5)\n",
        "\tmodel.compile(loss='binary_crossentropy', optimizer=opt)\n",
        "\treturn model\n",
        " \n",
        "# load and prepare mnist training images\n",
        "def load_real_samples():\n",
        "\t# load mnist dataset\n",
        "\t(trainX, _), (_, _) = load_data()\n",
        "\t# expand to 3d, e.g. add channels dimension\n",
        "\tX = expand_dims(trainX, axis=-1)\n",
        "\t# convert from unsigned ints to floats\n",
        "\tX = X.astype('float32')\n",
        "\t# scale from [0,255] to [0,1]\n",
        "\tX = X / 255.0\n",
        "\treturn X\n",
        " \n",
        "# select real samples\n",
        "def generate_real_samples(dataset, n_samples):\n",
        "\t# choose random instances\n",
        "\tix = randint(0, dataset.shape[0], n_samples)\n",
        "\t# retrieve selected images\n",
        "\tX = dataset[ix]\n",
        "\t# generate 'real' class labels (1)\n",
        "\ty = ones((n_samples, 1))\n",
        "\treturn X, y\n",
        " \n",
        "# generate points in latent space as input for the generator\n",
        "def generate_latent_points(latent_dim, n_samples):\n",
        "\t# generate points in the latent space\n",
        "\tx_input = randn(latent_dim * n_samples)\n",
        "\t# reshape into a batch of inputs for the network\n",
        "\tx_input = x_input.reshape(n_samples, latent_dim)\n",
        "\treturn x_input\n",
        " \n",
        "# use the generator to generate n fake examples, with class labels\n",
        "def generate_fake_samples(g_model, latent_dim, n_samples):\n",
        "\t# generate points in latent space\n",
        "\tx_input = generate_latent_points(latent_dim, n_samples)\n",
        "\t# predict outputs\n",
        "\tX = g_model.predict(x_input)\n",
        "\t# create 'fake' class labels (0)\n",
        "\ty = zeros((n_samples, 1))\n",
        "\treturn X, y\n",
        " \n",
        "# create and save a plot of generated images (reversed grayscale)\n",
        "def save_plot(examples, epoch, n=10):\n",
        "\t# plot images\n",
        "\tfor i in range(n * n):\n",
        "\t\t# define subplot\n",
        "\t\tpyplot.subplot(n, n, 1 + i)\n",
        "\t\t# turn off axis\n",
        "\t\tpyplot.axis('off')\n",
        "\t\t# plot raw pixel data\n",
        "\t\tpyplot.imshow(examples[i, :, :, 0], cmap='gray_r')\n",
        "\t# save plot to file\n",
        "\tfilename = 'generated_plot_e%03d.png' % (epoch+1)\n",
        "\tpyplot.savefig(filename)\n",
        "\tpyplot.close()\n",
        " \n",
        "# evaluate the discriminator, plot generated images, save generator model\n",
        "def summarize_performance(epoch, g_model, d_model, dataset, latent_dim, n_samples=100):\n",
        "\t# prepare real samples\n",
        "\tX_real, y_real = generate_real_samples(dataset, n_samples)\n",
        "\t# evaluate discriminator on real examples\n",
        "\t_, acc_real = d_model.evaluate(X_real, y_real, verbose=0)\n",
        "\t# prepare fake examples\n",
        "\tx_fake, y_fake = generate_fake_samples(g_model, latent_dim, n_samples)\n",
        "\t# evaluate discriminator on fake examples\n",
        "\t_, acc_fake = d_model.evaluate(x_fake, y_fake, verbose=0)\n",
        "\t# summarize discriminator performance\n",
        "\tprint('>Accuracy real: %.0f%%, fake: %.0f%%' % (acc_real*100, acc_fake*100))\n",
        "\t# save plot\n",
        "\tsave_plot(x_fake, epoch)\n",
        "\t# save the generator model tile file\n",
        "\tfilename = 'generator_model_%03d.h5' % (epoch + 1)\n",
        "\tg_model.save(filename)\n",
        " \n",
        "# train the generator and discriminator\n",
        "def train(g_model, d_model, gan_model, dataset, latent_dim, n_epochs=100, n_batch=256):\n",
        "\tbat_per_epo = int(dataset.shape[0] / n_batch)\n",
        "\thalf_batch = int(n_batch / 2)\n",
        "\t# manually enumerate epochs\n",
        "\tfor i in range(n_epochs):\n",
        "\t\t# enumerate batches over the training set\n",
        "\t\tfor j in range(bat_per_epo):\n",
        "\t\t\t# get randomly selected 'real' samples\n",
        "\t\t\tX_real, y_real = generate_real_samples(dataset, half_batch)\n",
        "\t\t\t# generate 'fake' examples\n",
        "\t\t\tX_fake, y_fake = generate_fake_samples(g_model, latent_dim, half_batch)\n",
        "\t\t\t# create training set for the discriminator\n",
        "\t\t\tX, y = vstack((X_real, X_fake)), vstack((y_real, y_fake))\n",
        "\t\t\t# update discriminator model weights\n",
        "\t\t\td_loss, _ = d_model.train_on_batch(X, y)\n",
        "\t\t\t# prepare points in latent space as input for the generator\n",
        "\t\t\tX_gan = generate_latent_points(latent_dim, n_batch)\n",
        "\t\t\t# create inverted labels for the fake samples\n",
        "\t\t\ty_gan = ones((n_batch, 1))\n",
        "\t\t\t# update the generator via the discriminator's error\n",
        "\t\t\tg_loss = gan_model.train_on_batch(X_gan, y_gan)\n",
        "\t\t\t# summarize loss on this batch\n",
        "\t\t\tprint('>%d, %d/%d, d=%.3f, g=%.3f' % (i+1, j+1, bat_per_epo, d_loss, g_loss))\n",
        "\t\t# evaluate the model performance, sometimes\n",
        "\t\tif (i+1) % 10 == 0:\n",
        "\t\t\tsummarize_performance(i, g_model, d_model, dataset, latent_dim)\n",
        " \n",
        "# size of the latent space\n",
        "latent_dim = 100\n",
        "# create the discriminator\n",
        "d_model = define_discriminator()\n",
        "# create the generator\n",
        "g_model = define_generator(latent_dim)\n",
        "# create the gan\n",
        "gan_model = define_gan(g_model, d_model)\n",
        "# load image data\n",
        "dataset = load_real_samples()\n",
        "# train model\n",
        "train(g_model, d_model, gan_model, dataset, latent_dim)"
      ],
      "execution_count": 57,
      "outputs": [
        {
          "output_type": "stream",
          "text": [
            ">Accuracy real: 11%, fake: 96%\n"
          ],
          "name": "stdout"
        }
      ]
    },
    {
      "cell_type": "code",
      "metadata": {
        "id": "skgmxnpY6Dor"
      },
      "source": [
        ""
      ],
      "execution_count": null,
      "outputs": []
    }
  ]
}
